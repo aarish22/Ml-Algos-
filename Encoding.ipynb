{
  "nbformat": 4,
  "nbformat_minor": 0,
  "metadata": {
    "colab": {
      "provenance": []
    },
    "kernelspec": {
      "name": "python3",
      "display_name": "Python 3"
    },
    "language_info": {
      "name": "python"
    }
  },
  "cells": [
    {
      "cell_type": "code",
      "execution_count": 2,
      "metadata": {
        "id": "lHm-Wt5Mmg4k"
      },
      "outputs": [],
      "source": [
        "import numpy as np\n",
        "import pandas as pd\n",
        "from sklearn.preprocessing import LabelEncoder, OneHotEncoder, OrdinalEncoder\n",
        "import category_encoders as ce"
      ]
    },
    {
      "cell_type": "code",
      "source": [
        "label_data = ['cat', 'dog', 'mouse', 'dog', 'cat']\n",
        "onehot_data = np.array(['cat', 'dog', 'mouse', 'dog', 'cat']).reshape(-1, 1)\n",
        "binary_data = pd.Series(['cat', 'dog', 'mouse', 'dog', 'cat'])\n",
        "target_data = pd.DataFrame({'category': ['A', 'B', 'A', 'C', 'B', 'C', 'A'], 'target': [1, 0, 1, 0, 1, 0, 1]})\n",
        "frequency_data = pd.Series(['cat', 'dog', 'mouse', 'dog', 'cat'])\n",
        "ordinal_data = np.array(['low', 'medium', 'high', 'medium', 'low']).reshape(-1, 1)"
      ],
      "metadata": {
        "id": "Hcpxhjc2mhiA"
      },
      "execution_count": 3,
      "outputs": []
    },
    {
      "cell_type": "markdown",
      "source": [
        "# One Hot Encoding"
      ],
      "metadata": {
        "id": "wV1YPoXem4_C"
      }
    },
    {
      "cell_type": "code",
      "source": [
        "label_encoder = LabelEncoder()\n",
        "label_encoded_data = label_encoder.fit_transform(label_data)\n",
        "label_decoded_data = label_encoder.inverse_transform(label_encoded_data)"
      ],
      "metadata": {
        "id": "3ZlWi7uImt4t"
      },
      "execution_count": 4,
      "outputs": []
    },
    {
      "cell_type": "code",
      "source": [
        "print(f\"Label Encoded: {label_encoded_data}\")\n",
        "print(f\"Label Decoded: {label_decoded_data}\")"
      ],
      "metadata": {
        "colab": {
          "base_uri": "https://localhost:8080/"
        },
        "id": "sUvlT-DEmxyv",
        "outputId": "7ee062ea-185f-44b0-d44c-bcbbc714a96d"
      },
      "execution_count": 5,
      "outputs": [
        {
          "output_type": "stream",
          "name": "stdout",
          "text": [
            "Label Encoded: [0 1 2 1 0]\n",
            "Label Decoded: ['cat' 'dog' 'mouse' 'dog' 'cat']\n"
          ]
        }
      ]
    },
    {
      "cell_type": "code",
      "source": [
        "onehot_encoder = OneHotEncoder()\n",
        "onehot_encoded_data = onehot_encoder.fit_transform(onehot_data)"
      ],
      "metadata": {
        "id": "6e0mLL0Bm0bm"
      },
      "execution_count": 7,
      "outputs": []
    },
    {
      "cell_type": "code",
      "source": [
        "print(f\"One-Hot Encoded:\\n{onehot_encoded_data}\")"
      ],
      "metadata": {
        "colab": {
          "base_uri": "https://localhost:8080/"
        },
        "id": "Bs3UZUwCm4Is",
        "outputId": "3309588d-f538-4f8e-86aa-0db7552322f4"
      },
      "execution_count": 8,
      "outputs": [
        {
          "output_type": "stream",
          "name": "stdout",
          "text": [
            "One-Hot Encoded:\n",
            "  (0, 0)\t1.0\n",
            "  (1, 1)\t1.0\n",
            "  (2, 2)\t1.0\n",
            "  (3, 1)\t1.0\n",
            "  (4, 0)\t1.0\n"
          ]
        }
      ]
    },
    {
      "cell_type": "markdown",
      "source": [
        "# Binary Encoding"
      ],
      "metadata": {
        "id": "RGnSfqmlnGWS"
      }
    },
    {
      "cell_type": "code",
      "source": [
        "binary_encoder = ce.BinaryEncoder()\n",
        "binary_encoded_data = binary_encoder.fit_transform(binary_data)"
      ],
      "metadata": {
        "id": "15HeObe2nB0y"
      },
      "execution_count": 10,
      "outputs": []
    },
    {
      "cell_type": "code",
      "source": [
        "print(f\"Binary Encoded:\\n{binary_encoded_data}\")"
      ],
      "metadata": {
        "colab": {
          "base_uri": "https://localhost:8080/"
        },
        "id": "amWGbtlFnFmy",
        "outputId": "9977f3c2-6ab2-4a47-82a5-2aac77470f6f"
      },
      "execution_count": 11,
      "outputs": [
        {
          "output_type": "stream",
          "name": "stdout",
          "text": [
            "Binary Encoded:\n",
            "   0_0  0_1\n",
            "0    0    1\n",
            "1    1    0\n",
            "2    1    1\n",
            "3    1    0\n",
            "4    0    1\n"
          ]
        }
      ]
    },
    {
      "cell_type": "markdown",
      "source": [
        "# Target Encoding"
      ],
      "metadata": {
        "id": "CZBlgf7VnNvS"
      }
    },
    {
      "cell_type": "code",
      "source": [
        "target_encoder = ce.TargetEncoder()\n",
        "target_encoded_data = target_encoder.fit_transform(target_data['category'], target_data['target'])"
      ],
      "metadata": {
        "id": "WI-JO3E5nMuc"
      },
      "execution_count": 12,
      "outputs": []
    },
    {
      "cell_type": "code",
      "source": [
        "print(f\"Target Encoded:\\n{target_encoded_data}\")"
      ],
      "metadata": {
        "colab": {
          "base_uri": "https://localhost:8080/"
        },
        "id": "a2Ja0MnZnTE8",
        "outputId": "5310223c-fd79-4407-b01d-0170b12b660a"
      },
      "execution_count": 13,
      "outputs": [
        {
          "output_type": "stream",
          "name": "stdout",
          "text": [
            "Target Encoded:\n",
            "   category\n",
            "0  0.637628\n",
            "1  0.561296\n",
            "2  0.637628\n",
            "3  0.490371\n",
            "4  0.561296\n",
            "5  0.490371\n",
            "6  0.637628\n"
          ]
        }
      ]
    },
    {
      "cell_type": "markdown",
      "source": [
        "# Frequency Encoding"
      ],
      "metadata": {
        "id": "qDRBf2a5nVfT"
      }
    },
    {
      "cell_type": "code",
      "source": [
        "frequency = frequency_data.value_counts() / len(frequency_data)\n",
        "frequency_encoded_data = frequency_data.map(frequency)"
      ],
      "metadata": {
        "id": "QKxeMRrUnUyw"
      },
      "execution_count": 14,
      "outputs": []
    },
    {
      "cell_type": "code",
      "source": [
        "print(f\"Frequency:\\n{frequency}\")\n",
        "print(f\"Frequency Encoded: {frequency_encoded_data}\")"
      ],
      "metadata": {
        "colab": {
          "base_uri": "https://localhost:8080/"
        },
        "id": "p3lp09SRnZpW",
        "outputId": "05f4550d-c07a-4b46-d6b1-d96b7b623992"
      },
      "execution_count": 15,
      "outputs": [
        {
          "output_type": "stream",
          "name": "stdout",
          "text": [
            "Frequency:\n",
            "cat      0.4\n",
            "dog      0.4\n",
            "mouse    0.2\n",
            "Name: count, dtype: float64\n",
            "Frequency Encoded: 0    0.4\n",
            "1    0.4\n",
            "2    0.2\n",
            "3    0.4\n",
            "4    0.4\n",
            "dtype: float64\n"
          ]
        }
      ]
    },
    {
      "cell_type": "markdown",
      "source": [
        "# Ordinal Encoding"
      ],
      "metadata": {
        "id": "0B6xIbqDnfE6"
      }
    },
    {
      "cell_type": "code",
      "source": [
        "ordinal_encoder = OrdinalEncoder(categories=[['low', 'medium', 'high']])\n",
        "ordinal_encoded_data = ordinal_encoder.fit_transform(ordinal_data)"
      ],
      "metadata": {
        "id": "zkWqrLUenbrZ"
      },
      "execution_count": 16,
      "outputs": []
    },
    {
      "cell_type": "code",
      "source": [
        "print(f\"Ordinal Encoded: {ordinal_encoded_data}\")"
      ],
      "metadata": {
        "colab": {
          "base_uri": "https://localhost:8080/"
        },
        "id": "qiRkzuQ2nh3i",
        "outputId": "5333c2dd-a2b7-4a57-93ec-d63b5b8b8e99"
      },
      "execution_count": 17,
      "outputs": [
        {
          "output_type": "stream",
          "name": "stdout",
          "text": [
            "Ordinal Encoded: [[0.]\n",
            " [1.]\n",
            " [2.]\n",
            " [1.]\n",
            " [0.]]\n"
          ]
        }
      ]
    },
    {
      "cell_type": "code",
      "source": [],
      "metadata": {
        "id": "1MDHrNoGniK-"
      },
      "execution_count": null,
      "outputs": []
    }
  ]
}