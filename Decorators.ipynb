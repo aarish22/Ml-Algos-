{
  "nbformat": 4,
  "nbformat_minor": 0,
  "metadata": {
    "colab": {
      "provenance": []
    },
    "kernelspec": {
      "name": "python3",
      "display_name": "Python 3"
    },
    "language_info": {
      "name": "python"
    }
  },
  "cells": [
    {
      "cell_type": "code",
      "execution_count": 1,
      "metadata": {
        "colab": {
          "base_uri": "https://localhost:8080/"
        },
        "id": "PV8NkD7sxY-q",
        "outputId": "12dbc245-4eb1-4aad-e193-f966ef5d8f0b"
      },
      "outputs": [
        {
          "output_type": "stream",
          "name": "stdout",
          "text": [
            "Hello, World!\n"
          ]
        }
      ],
      "source": [
        "def greet():\n",
        "    return \"Hello, World!\"\n",
        "\n",
        "print(greet())"
      ]
    },
    {
      "cell_type": "code",
      "source": [
        "def uppercase_decorator(function):\n",
        "    def wrapper():\n",
        "        original_result = function()\n",
        "        modified_result = original_result.upper()\n",
        "        return modified_result\n",
        "    return wrapper\n",
        "\n",
        "@uppercase_decorator\n",
        "def greet():\n",
        "    return \"Hello, World!\"\n",
        "\n",
        "print(greet())"
      ],
      "metadata": {
        "colab": {
          "base_uri": "https://localhost:8080/"
        },
        "id": "9LAi3shJxake",
        "outputId": "7752cb7a-0d35-41bc-b062-c34cb3d6f8fa"
      },
      "execution_count": 3,
      "outputs": [
        {
          "output_type": "stream",
          "name": "stdout",
          "text": [
            "HELLO, WORLD!\n"
          ]
        }
      ]
    },
    {
      "cell_type": "code",
      "source": [
        "def uppercase_decorator(function):\n",
        "    def wrapper(*args, **kwargs):\n",
        "        original_result = function(*args, **kwargs)\n",
        "        modified_result = original_result.upper()\n",
        "        return modified_result\n",
        "    return wrapper\n",
        "@uppercase_decorator\n",
        "def greet(name):\n",
        "    return f\"Hello, {name}!\"\n",
        "\n",
        "print(greet(\"Tanziro\"))"
      ],
      "metadata": {
        "colab": {
          "base_uri": "https://localhost:8080/"
        },
        "id": "TGnoUNmJxdhF",
        "outputId": "7d0e2314-18c0-4415-92a8-37c0ff6e5027"
      },
      "execution_count": 4,
      "outputs": [
        {
          "output_type": "stream",
          "name": "stdout",
          "text": [
            "HELLO, TANZIRO!\n"
          ]
        }
      ]
    },
    {
      "cell_type": "code",
      "source": [
        "def uppercase_decorator(function):\n",
        "    def wrapper(*a, **key):\n",
        "        original_result = function(*a, **key)\n",
        "        modified_result = original_result.upper()\n",
        "        return modified_result\n",
        "    return wrapper\n",
        "\n",
        "def exclamation_decorator(function):\n",
        "    def wrapper(*a, **key):\n",
        "        original_result = function(*a, **key)\n",
        "        modified_result = original_result + \"!!!\"\n",
        "        return modified_result\n",
        "    return wrapper\n",
        "\n",
        "@exclamation_decorator\n",
        "@uppercase_decorator\n",
        "def greet(name):\n",
        "    return f\"Hello, {name}\"\n",
        "\n",
        "print(greet(\"Zenitsu\"))"
      ],
      "metadata": {
        "colab": {
          "base_uri": "https://localhost:8080/"
        },
        "id": "Xr_4wq6txtoE",
        "outputId": "9430fcb0-80d0-403b-b585-dd649d6d205e"
      },
      "execution_count": 7,
      "outputs": [
        {
          "output_type": "stream",
          "name": "stdout",
          "text": [
            "HELLO, ZENITSU!!!\n"
          ]
        }
      ]
    },
    {
      "cell_type": "code",
      "source": [],
      "metadata": {
        "id": "CS8tapL-x0kH"
      },
      "execution_count": null,
      "outputs": []
    }
  ]
}