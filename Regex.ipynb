{
  "nbformat": 4,
  "nbformat_minor": 0,
  "metadata": {
    "colab": {
      "provenance": []
    },
    "kernelspec": {
      "name": "python3",
      "display_name": "Python 3"
    },
    "language_info": {
      "name": "python"
    }
  },
  "cells": [
    {
      "cell_type": "code",
      "execution_count": 1,
      "metadata": {
        "id": "G4IBSIlo1YBH"
      },
      "outputs": [],
      "source": [
        "import re"
      ]
    },
    {
      "cell_type": "code",
      "source": [
        "paragraph = \"\"\"\n",
        "Demon Slayer: Kimetsu no Yaiba is a Japanese manga series written and illustrated by Koyoharu Gotouge. The story follows Tanjiro Kamado, a young boy who becomes a demon slayer after his family is slaughtered and his younger sister Nezuko Kamado is turned into a demon. Together with his friends Zenitsu Agatsuma and Inosuke Hashibira, Tanjiro sets out on a journey to find a cure for Nezuko and to fight the demon lord Muzan Kibutsuji.\n",
        "In the Taisho-era Japan, Demon Slayer Corps protect humans from demons. The series chronicles their adventures and battles against powerful demons such as the Twelve Kizuki. Notable members of the Demon Slayer Corps include Giyu Tomioka, Kyojuro Rengoku, Shinobu Kocho, and Tengen Uzui. The anime adaptation by Ufotable has been praised for its stunning animation, particularly the iconic fight scenes.\n",
        "The manga began serialization in February 2016 in Shueisha's Weekly Shonen Jump magazine and concluded in May 2020 with 23 volumes. The anime premiered in April 2019 and quickly gained popularity worldwide. The movie \"Demon Slayer: Mugen Train,\" released in October 2020, broke box office records, becoming the highest-grossing anime film of all time.\n",
        "One of the main themes in Demon Slayer is the struggle between good and evil. Tanjiro, with his unwavering determination and compassion, embodies the spirit of a true hero. Nezuko, despite being a demon, retains her humanity and helps Tanjiro in his quest. Their bond is a central aspect of the series, highlighting the importance of family and perseverance.\n",
        "Fans eagerly await each new season, and the excitement is palpable whenever a new episode airs. With its compelling story, well-developed characters, and breathtaking visuals, Demon Slayer continues to captivate audiences around the globe. As the tale of Tanjiro and Nezuko unfolds, it reminds us that even in the darkest times, hope and courage can shine through.\n",
        "Contact us at info@demonslayer.com for more details about the upcoming seasons, or visit our website at http://www.demonslayer.com for the latest news. Also, follow us on social media: @DemonSlayerAnime on Twitter and Instagram.\n",
        "Don't miss out on our special event on 15/07/2024 at 18:30, celebrating the legacy of Demon Slayer and its impact on the anime community. Join us for exclusive previews, interviews with the creators, and more!\n",
        "\"\"\""
      ],
      "metadata": {
        "id": "5_TezVik1Yvn"
      },
      "execution_count": 6,
      "outputs": []
    },
    {
      "cell_type": "markdown",
      "source": [
        "# 1. Finding all words that start with a capital letter"
      ],
      "metadata": {
        "id": "F2IX384E1e09"
      }
    },
    {
      "cell_type": "code",
      "source": [
        "capital_words = re.findall(r'\\b[A-Z][a-z]*\\b', paragraph)\n",
        "print(\"1. Capital Words:\", capital_words)"
      ],
      "metadata": {
        "colab": {
          "base_uri": "https://localhost:8080/"
        },
        "id": "zi45ZTb11ays",
        "outputId": "2cb40237-8d03-477c-bb47-134f24bb481d"
      },
      "execution_count": 7,
      "outputs": [
        {
          "output_type": "stream",
          "name": "stdout",
          "text": [
            "1. Capital Words: ['Demon', 'Slayer', 'Kimetsu', 'Yaiba', 'Japanese', 'Koyoharu', 'Gotouge', 'The', 'Tanjiro', 'Kamado', 'Nezuko', 'Kamado', 'Together', 'Zenitsu', 'Agatsuma', 'Inosuke', 'Hashibira', 'Tanjiro', 'Nezuko', 'Muzan', 'Kibutsuji', 'In', 'Taisho', 'Japan', 'Demon', 'Slayer', 'Corps', 'The', 'Twelve', 'Kizuki', 'Notable', 'Demon', 'Slayer', 'Corps', 'Giyu', 'Tomioka', 'Kyojuro', 'Rengoku', 'Shinobu', 'Kocho', 'Tengen', 'Uzui', 'The', 'Ufotable', 'The', 'February', 'Shueisha', 'Weekly', 'Shonen', 'Jump', 'May', 'The', 'April', 'The', 'Demon', 'Slayer', 'Mugen', 'Train', 'October', 'One', 'Demon', 'Slayer', 'Tanjiro', 'Nezuko', 'Tanjiro', 'Their', 'Fans', 'With', 'Demon', 'Slayer', 'As', 'Tanjiro', 'Nezuko', 'Contact', 'Also', 'Twitter', 'Instagram', 'Don', 'Demon', 'Slayer', 'Join']\n"
          ]
        }
      ]
    },
    {
      "cell_type": "markdown",
      "source": [
        "# 2. Finding all occurrences of 'Tanjiro'"
      ],
      "metadata": {
        "id": "6Pl-k9-k1kkO"
      }
    },
    {
      "cell_type": "code",
      "source": [
        "tanjiro_occurrences = re.findall(r'Tanjiro', paragraph)\n",
        "print(\"2. Occurrences of 'Tanjiro':\", tanjiro_occurrences)"
      ],
      "metadata": {
        "colab": {
          "base_uri": "https://localhost:8080/"
        },
        "id": "wmIR07Mb1fUu",
        "outputId": "b59eb4f7-b080-4e01-9311-d50a1ec86bdd"
      },
      "execution_count": 8,
      "outputs": [
        {
          "output_type": "stream",
          "name": "stdout",
          "text": [
            "2. Occurrences of 'Tanjiro': ['Tanjiro', 'Tanjiro', 'Tanjiro', 'Tanjiro', 'Tanjiro']\n"
          ]
        }
      ]
    },
    {
      "cell_type": "markdown",
      "source": [
        "# 3. Finding all numbers in the text"
      ],
      "metadata": {
        "id": "0k0GrSgh1sd1"
      }
    },
    {
      "cell_type": "code",
      "source": [
        "numbers = re.findall(r'\\d+', paragraph)\n",
        "print(\"Numbers:\", numbers)"
      ],
      "metadata": {
        "colab": {
          "base_uri": "https://localhost:8080/"
        },
        "id": "NXbCFJFl1nQ2",
        "outputId": "c072bc0d-5b08-4c66-c836-7467e595ca62"
      },
      "execution_count": 9,
      "outputs": [
        {
          "output_type": "stream",
          "name": "stdout",
          "text": [
            "Numbers: ['2016', '2020', '23', '2019', '2020', '15', '07', '2024', '18', '30']\n"
          ]
        }
      ]
    },
    {
      "cell_type": "markdown",
      "source": [
        "# 4. Finding all words"
      ],
      "metadata": {
        "id": "B_2dRELq53hF"
      }
    },
    {
      "cell_type": "code",
      "source": [
        "words = re.findall(r'\\b\\w+\\b', paragraph)\n",
        "print(\"4. All Words:\", words)"
      ],
      "metadata": {
        "colab": {
          "base_uri": "https://localhost:8080/"
        },
        "id": "mX1Gu0F31u4-",
        "outputId": "12beae55-e98e-4d64-e081-f755a83bbe6a"
      },
      "execution_count": 10,
      "outputs": [
        {
          "output_type": "stream",
          "name": "stdout",
          "text": [
            "4. All Words: ['Demon', 'Slayer', 'Kimetsu', 'no', 'Yaiba', 'is', 'a', 'Japanese', 'manga', 'series', 'written', 'and', 'illustrated', 'by', 'Koyoharu', 'Gotouge', 'The', 'story', 'follows', 'Tanjiro', 'Kamado', 'a', 'young', 'boy', 'who', 'becomes', 'a', 'demon', 'slayer', 'after', 'his', 'family', 'is', 'slaughtered', 'and', 'his', 'younger', 'sister', 'Nezuko', 'Kamado', 'is', 'turned', 'into', 'a', 'demon', 'Together', 'with', 'his', 'friends', 'Zenitsu', 'Agatsuma', 'and', 'Inosuke', 'Hashibira', 'Tanjiro', 'sets', 'out', 'on', 'a', 'journey', 'to', 'find', 'a', 'cure', 'for', 'Nezuko', 'and', 'to', 'fight', 'the', 'demon', 'lord', 'Muzan', 'Kibutsuji', 'In', 'the', 'Taisho', 'era', 'Japan', 'Demon', 'Slayer', 'Corps', 'protect', 'humans', 'from', 'demons', 'The', 'series', 'chronicles', 'their', 'adventures', 'and', 'battles', 'against', 'powerful', 'demons', 'such', 'as', 'the', 'Twelve', 'Kizuki', 'Notable', 'members', 'of', 'the', 'Demon', 'Slayer', 'Corps', 'include', 'Giyu', 'Tomioka', 'Kyojuro', 'Rengoku', 'Shinobu', 'Kocho', 'and', 'Tengen', 'Uzui', 'The', 'anime', 'adaptation', 'by', 'Ufotable', 'has', 'been', 'praised', 'for', 'its', 'stunning', 'animation', 'particularly', 'the', 'iconic', 'fight', 'scenes', 'The', 'manga', 'began', 'serialization', 'in', 'February', '2016', 'in', 'Shueisha', 's', 'Weekly', 'Shonen', 'Jump', 'magazine', 'and', 'concluded', 'in', 'May', '2020', 'with', '23', 'volumes', 'The', 'anime', 'premiered', 'in', 'April', '2019', 'and', 'quickly', 'gained', 'popularity', 'worldwide', 'The', 'movie', 'Demon', 'Slayer', 'Mugen', 'Train', 'released', 'in', 'October', '2020', 'broke', 'box', 'office', 'records', 'becoming', 'the', 'highest', 'grossing', 'anime', 'film', 'of', 'all', 'time', 'One', 'of', 'the', 'main', 'themes', 'in', 'Demon', 'Slayer', 'is', 'the', 'struggle', 'between', 'good', 'and', 'evil', 'Tanjiro', 'with', 'his', 'unwavering', 'determination', 'and', 'compassion', 'embodies', 'the', 'spirit', 'of', 'a', 'true', 'hero', 'Nezuko', 'despite', 'being', 'a', 'demon', 'retains', 'her', 'humanity', 'and', 'helps', 'Tanjiro', 'in', 'his', 'quest', 'Their', 'bond', 'is', 'a', 'central', 'aspect', 'of', 'the', 'series', 'highlighting', 'the', 'importance', 'of', 'family', 'and', 'perseverance', 'Fans', 'eagerly', 'await', 'each', 'new', 'season', 'and', 'the', 'excitement', 'is', 'palpable', 'whenever', 'a', 'new', 'episode', 'airs', 'With', 'its', 'compelling', 'story', 'well', 'developed', 'characters', 'and', 'breathtaking', 'visuals', 'Demon', 'Slayer', 'continues', 'to', 'captivate', 'audiences', 'around', 'the', 'globe', 'As', 'the', 'tale', 'of', 'Tanjiro', 'and', 'Nezuko', 'unfolds', 'it', 'reminds', 'us', 'that', 'even', 'in', 'the', 'darkest', 'times', 'hope', 'and', 'courage', 'can', 'shine', 'through', 'Contact', 'us', 'at', 'info', 'demonslayer', 'com', 'for', 'more', 'details', 'about', 'the', 'upcoming', 'seasons', 'or', 'visit', 'our', 'website', 'at', 'http', 'www', 'demonslayer', 'com', 'for', 'the', 'latest', 'news', 'Also', 'follow', 'us', 'on', 'social', 'media', 'DemonSlayerAnime', 'on', 'Twitter', 'and', 'Instagram', 'Don', 't', 'miss', 'out', 'on', 'our', 'special', 'event', 'on', '15', '07', '2024', 'at', '18', '30', 'celebrating', 'the', 'legacy', 'of', 'Demon', 'Slayer', 'and', 'its', 'impact', 'on', 'the', 'anime', 'community', 'Join', 'us', 'for', 'exclusive', 'previews', 'interviews', 'with', 'the', 'creators', 'and', 'more']\n"
          ]
        }
      ]
    },
    {
      "cell_type": "markdown",
      "source": [
        "# 5. Finding all sentences"
      ],
      "metadata": {
        "id": "VfKekE6a580l"
      }
    },
    {
      "cell_type": "code",
      "source": [
        "sentences = re.split(r'(?<!\\w\\.\\w.)(?<![A-Z][a-z]\\.)(?<=\\.|\\?)\\s', paragraph)\n",
        "print(\"5. Sentences:\", sentences)"
      ],
      "metadata": {
        "colab": {
          "base_uri": "https://localhost:8080/"
        },
        "id": "rWqR6JD-553p",
        "outputId": "91d8cc79-d09d-40f7-aa99-260a2bac167a"
      },
      "execution_count": 11,
      "outputs": [
        {
          "output_type": "stream",
          "name": "stdout",
          "text": [
            "5. Sentences: ['\\nDemon Slayer: Kimetsu no Yaiba is a Japanese manga series written and illustrated by Koyoharu Gotouge.', 'The story follows Tanjiro Kamado, a young boy who becomes a demon slayer after his family is slaughtered and his younger sister Nezuko Kamado is turned into a demon.', 'Together with his friends Zenitsu Agatsuma and Inosuke Hashibira, Tanjiro sets out on a journey to find a cure for Nezuko and to fight the demon lord Muzan Kibutsuji.', 'In the Taisho-era Japan, Demon Slayer Corps protect humans from demons.', 'The series chronicles their adventures and battles against powerful demons such as the Twelve Kizuki.', 'Notable members of the Demon Slayer Corps include Giyu Tomioka, Kyojuro Rengoku, Shinobu Kocho, and Tengen Uzui.', 'The anime adaptation by Ufotable has been praised for its stunning animation, particularly the iconic fight scenes.', \"The manga began serialization in February 2016 in Shueisha's Weekly Shonen Jump magazine and concluded in May 2020 with 23 volumes.\", 'The anime premiered in April 2019 and quickly gained popularity worldwide.', 'The movie \"Demon Slayer: Mugen Train,\" released in October 2020, broke box office records, becoming the highest-grossing anime film of all time.', 'One of the main themes in Demon Slayer is the struggle between good and evil.', 'Tanjiro, with his unwavering determination and compassion, embodies the spirit of a true hero.', 'Nezuko, despite being a demon, retains her humanity and helps Tanjiro in his quest.', 'Their bond is a central aspect of the series, highlighting the importance of family and perseverance.', 'Fans eagerly await each new season, and the excitement is palpable whenever a new episode airs.', 'With its compelling story, well-developed characters, and breathtaking visuals, Demon Slayer continues to captivate audiences around the globe.', 'As the tale of Tanjiro and Nezuko unfolds, it reminds us that even in the darkest times, hope and courage can shine through.', 'Contact us at info@demonslayer.com for more details about the upcoming seasons, or visit our website at http://www.demonslayer.com for the latest news.', 'Also, follow us on social media: @DemonSlayerAnime on Twitter and Instagram.', \"Don't miss out on our special event on 15/07/2024 at 18:30, celebrating the legacy of Demon Slayer and its impact on the anime community.\", 'Join us for exclusive previews, interviews with the creators, and more!\\n']\n"
          ]
        }
      ]
    },
    {
      "cell_type": "markdown",
      "source": [
        "# 6. Checking if a word starts with a specific letter"
      ],
      "metadata": {
        "id": "VxJTGzE46Co1"
      }
    },
    {
      "cell_type": "code",
      "source": [
        "words_starting_with_T = re.findall(r'\\bT\\w+', paragraph)\n",
        "print(\"6. Words starting with 'T':\", words_starting_with_T)"
      ],
      "metadata": {
        "colab": {
          "base_uri": "https://localhost:8080/"
        },
        "id": "dePxL4v95_H1",
        "outputId": "c9d846ee-9480-4abf-f90f-99a561b172fb"
      },
      "execution_count": 12,
      "outputs": [
        {
          "output_type": "stream",
          "name": "stdout",
          "text": [
            "6. Words starting with 'T': ['The', 'Tanjiro', 'Together', 'Tanjiro', 'Taisho', 'The', 'Twelve', 'Tomioka', 'Tengen', 'The', 'The', 'The', 'The', 'Train', 'Tanjiro', 'Tanjiro', 'Their', 'Tanjiro', 'Twitter']\n"
          ]
        }
      ]
    },
    {
      "cell_type": "markdown",
      "source": [
        "# 7. Finding words followed by a specific word (e.g., 'demon')"
      ],
      "metadata": {
        "id": "vKKleb9e6Hk9"
      }
    },
    {
      "cell_type": "code",
      "source": [
        "demon_followed_words = re.findall(r'\\b\\w+(?=\\s+demon)', paragraph)\n",
        "print(\"7. Words followed by 'demon':\", demon_followed_words)"
      ],
      "metadata": {
        "colab": {
          "base_uri": "https://localhost:8080/"
        },
        "id": "baYi6rBs6Emy",
        "outputId": "5f6bb311-f170-4582-ee2b-9e399c2b55b4"
      },
      "execution_count": 13,
      "outputs": [
        {
          "output_type": "stream",
          "name": "stdout",
          "text": [
            "7. Words followed by 'demon': ['a', 'a', 'the', 'from', 'powerful', 'a']\n"
          ]
        }
      ]
    },
    {
      "cell_type": "markdown",
      "source": [
        "# 8. Finding all unique words (case insensitive)"
      ],
      "metadata": {
        "id": "tITCxkkq6Qd-"
      }
    },
    {
      "cell_type": "code",
      "source": [
        "unique_words = set(re.findall(r'\\b\\w+\\b', paragraph.lower()))\n",
        "print(\"8. Unique Words:\", unique_words)"
      ],
      "metadata": {
        "colab": {
          "base_uri": "https://localhost:8080/"
        },
        "id": "Kw6uEIlH6Nek",
        "outputId": "05817c0a-5215-4fef-c67e-19f380d12191"
      },
      "execution_count": 14,
      "outputs": [
        {
          "output_type": "stream",
          "name": "stdout",
          "text": [
            "8. Unique Words: {'highest', 'interviews', 'no', 'excitement', '2024', 'well', 'together', 'palpable', 'http', 'written', 'latest', 'instagram', 'battles', 'evil', 'kimetsu', 'tomioka', 'fight', 'his', 'courage', 'giyu', 'demonslayer', 'after', 'taisho', 'humanity', 'inosuke', 'becoming', 'it', 'becomes', 'uzui', 'ufotable', 'darkest', 'legacy', 'younger', 'its', 'released', 'lord', 'nezuko', 'and', 'embodies', 't', 'struggle', 'tale', 'adventures', 'concluded', 'against', 'more', 'www', 'quickly', 'miss', 'for', 'october', 'kocho', 'april', 'broke', 'shinobu', 'visuals', 'shine', 'particularly', 'helps', 'news', 'previews', 'began', 'journey', 'event', 'continues', 'follow', 'koyoharu', 'join', 'or', 'times', 'shueisha', '07', '30', 'in', 'worldwide', 'between', 'determination', 'each', 'movie', 'by', 'popularity', 'com', 'train', 'special', 'can', 'has', 'shonen', 'one', 'aspect', 'eagerly', 'hashibira', 'cure', 'kamado', 'iconic', 'praised', 'mugen', 'main', 'await', 'stunning', 'adaptation', 'been', 'sets', 'central', 'chronicles', 'social', '2020', 'exclusive', 'manga', 'records', 'zenitsu', 'who', 'twitter', 'spirit', 'slayer', 'illustrated', 'from', 'kizuki', 'details', 'office', 'japanese', 'find', 'her', 'perseverance', 'season', 'contact', 'as', 'protect', '23', 'even', 'young', 'serialization', 'their', 'compelling', 'muzan', 'info', 'film', 'time', 'premiered', 'box', 'with', 'the', 'demon', 'gained', 'us', 'kibutsuji', 'out', 'family', 'good', 'to', 'rengoku', 'community', 'twelve', 'agatsuma', 'episode', '18', 'magazine', 'tengen', 'japan', 'globe', 'sister', 'don', 'through', 'all', 'around', 'volumes', 'tanjiro', '15', 'airs', 'audiences', 'a', 'retains', 'creators', 'may', '2016', 'fans', 'unfolds', 'visit', 'captivate', 'media', 'impact', 'on', 'demons', 'notable', 'scenes', 'reminds', 'whenever', 'era', 'themes', 'follows', 'upcoming', 'demonslayeranime', 'members', 'is', 'story', 'being', 'of', 'highlighting', 'despite', 'hero', 'jump', 'humans', 'into', 'friends', 'seasons', 'importance', 'turned', 'celebrating', 'gotouge', 'boy', 'at', 'about', 'hope', 'powerful', 'developed', 'website', 'bond', 'anime', 'unwavering', 'grossing', 'corps', 'include', 'february', 's', 'weekly', 'also', 'such', 'our', 'that', 'new', '2019', 'quest', 'yaiba', 'animation', 'true', 'slaughtered', 'series', 'breathtaking', 'compassion', 'characters', 'kyojuro'}\n"
          ]
        }
      ]
    },
    {
      "cell_type": "markdown",
      "source": [
        "# 9. Replacing 'Tanjiro' with 'T. Kamado'"
      ],
      "metadata": {
        "id": "jNMC1p2g6VJu"
      }
    },
    {
      "cell_type": "code",
      "source": [
        "updated_paragraph = re.sub(r'Tanjiro', 'T. Kamado', paragraph)\n",
        "print(\"9. Updated Paragraph:\\n\", updated_paragraph)"
      ],
      "metadata": {
        "colab": {
          "base_uri": "https://localhost:8080/"
        },
        "id": "4GNgNffW6Soc",
        "outputId": "355c9f44-d068-4b89-e3bd-a582108f851d"
      },
      "execution_count": 15,
      "outputs": [
        {
          "output_type": "stream",
          "name": "stdout",
          "text": [
            "9. Updated Paragraph:\n",
            " \n",
            "Demon Slayer: Kimetsu no Yaiba is a Japanese manga series written and illustrated by Koyoharu Gotouge. The story follows T. Kamado Kamado, a young boy who becomes a demon slayer after his family is slaughtered and his younger sister Nezuko Kamado is turned into a demon. Together with his friends Zenitsu Agatsuma and Inosuke Hashibira, T. Kamado sets out on a journey to find a cure for Nezuko and to fight the demon lord Muzan Kibutsuji.\n",
            "In the Taisho-era Japan, Demon Slayer Corps protect humans from demons. The series chronicles their adventures and battles against powerful demons such as the Twelve Kizuki. Notable members of the Demon Slayer Corps include Giyu Tomioka, Kyojuro Rengoku, Shinobu Kocho, and Tengen Uzui. The anime adaptation by Ufotable has been praised for its stunning animation, particularly the iconic fight scenes.\n",
            "The manga began serialization in February 2016 in Shueisha's Weekly Shonen Jump magazine and concluded in May 2020 with 23 volumes. The anime premiered in April 2019 and quickly gained popularity worldwide. The movie \"Demon Slayer: Mugen Train,\" released in October 2020, broke box office records, becoming the highest-grossing anime film of all time.\n",
            "One of the main themes in Demon Slayer is the struggle between good and evil. T. Kamado, with his unwavering determination and compassion, embodies the spirit of a true hero. Nezuko, despite being a demon, retains her humanity and helps T. Kamado in his quest. Their bond is a central aspect of the series, highlighting the importance of family and perseverance.\n",
            "Fans eagerly await each new season, and the excitement is palpable whenever a new episode airs. With its compelling story, well-developed characters, and breathtaking visuals, Demon Slayer continues to captivate audiences around the globe. As the tale of T. Kamado and Nezuko unfolds, it reminds us that even in the darkest times, hope and courage can shine through.\n",
            "Contact us at info@demonslayer.com for more details about the upcoming seasons, or visit our website at http://www.demonslayer.com for the latest news. Also, follow us on social media: @DemonSlayerAnime on Twitter and Instagram.\n",
            "Don't miss out on our special event on 15/07/2024 at 18:30, celebrating the legacy of Demon Slayer and its impact on the anime community. Join us for exclusive previews, interviews with the creators, and more!\n",
            "\n"
          ]
        }
      ]
    },
    {
      "cell_type": "markdown",
      "source": [
        "# 10. Extracting the first sentence"
      ],
      "metadata": {
        "id": "gFDxYiZF6a0O"
      }
    },
    {
      "cell_type": "code",
      "source": [
        "first_sentence = re.search(r'^[^\\.]*\\.', paragraph).group()\n",
        "print(\"10. First Sentence:\", first_sentence)"
      ],
      "metadata": {
        "colab": {
          "base_uri": "https://localhost:8080/"
        },
        "id": "FvL5zBu16X0D",
        "outputId": "062743e0-2c27-456a-f070-b7f86a1fb781"
      },
      "execution_count": 16,
      "outputs": [
        {
          "output_type": "stream",
          "name": "stdout",
          "text": [
            "10. First Sentence: \n",
            "Demon Slayer: Kimetsu no Yaiba is a Japanese manga series written and illustrated by Koyoharu Gotouge.\n"
          ]
        }
      ]
    },
    {
      "cell_type": "markdown",
      "source": [
        "# 11. Finding all email-like patterns"
      ],
      "metadata": {
        "id": "uCL2byA56fM-"
      }
    },
    {
      "cell_type": "code",
      "source": [
        "emails = re.findall(r'\\b[A-Za-z0-9._%+-]+@[A-Za-z0-9.-]+\\.[A-Z|a-z]{2,}\\b', paragraph)\n",
        "print(\"11. Email-like Patterns:\", emails)"
      ],
      "metadata": {
        "colab": {
          "base_uri": "https://localhost:8080/"
        },
        "id": "fUuRRZaz6coy",
        "outputId": "ab7dabf1-6c52-4794-a523-ce179171b019"
      },
      "execution_count": 17,
      "outputs": [
        {
          "output_type": "stream",
          "name": "stdout",
          "text": [
            "11. Email-like Patterns: ['info@demonslayer.com']\n"
          ]
        }
      ]
    },
    {
      "cell_type": "markdown",
      "source": [
        "# 12. Finding all URLs"
      ],
      "metadata": {
        "id": "kZISwWnm6kqN"
      }
    },
    {
      "cell_type": "code",
      "source": [
        "urls = re.findall(r'http[s]?://(?:[a-zA-Z]|[0-9]|[$-_@.&+]|[!*\\\\(\\\\),]|(?:%[0-9a-fA-F][0-9a-fA-F]))+', paragraph)\n",
        "print(\"12. URLs:\", urls)"
      ],
      "metadata": {
        "colab": {
          "base_uri": "https://localhost:8080/"
        },
        "id": "BlSK0_kd6hk7",
        "outputId": "e549992c-408f-44bc-d010-9cbd03690177"
      },
      "execution_count": 18,
      "outputs": [
        {
          "output_type": "stream",
          "name": "stdout",
          "text": [
            "12. URLs: ['http://www.demonslayer.com']\n"
          ]
        }
      ]
    },
    {
      "cell_type": "markdown",
      "source": [
        "# 13. Finding all dates in the format DD/MM/YYYY"
      ],
      "metadata": {
        "id": "LMCUlpFS6pgm"
      }
    },
    {
      "cell_type": "code",
      "source": [
        "dates = re.findall(r'\\b\\d{2}/\\d{2}/\\d{4}\\b', paragraph)\n",
        "print(\"13. Dates:\", dates)"
      ],
      "metadata": {
        "colab": {
          "base_uri": "https://localhost:8080/"
        },
        "id": "1UgW4ta56nAe",
        "outputId": "3677a77f-dd17-472f-97ad-466fd0f8b2f1"
      },
      "execution_count": 19,
      "outputs": [
        {
          "output_type": "stream",
          "name": "stdout",
          "text": [
            "13. Dates: ['15/07/2024']\n"
          ]
        }
      ]
    },
    {
      "cell_type": "markdown",
      "source": [
        "# 14. Finding all times in the format HH:MM"
      ],
      "metadata": {
        "id": "pV_cAIVC6wFG"
      }
    },
    {
      "cell_type": "code",
      "source": [
        "times = re.findall(r'\\b\\d{2}:\\d{2}\\b', paragraph)\n",
        "print(\"14. Times:\", times)"
      ],
      "metadata": {
        "colab": {
          "base_uri": "https://localhost:8080/"
        },
        "id": "rFw2FCCW6rib",
        "outputId": "6013c723-9b8e-41ec-b854-5ae863107a04"
      },
      "execution_count": 20,
      "outputs": [
        {
          "output_type": "stream",
          "name": "stdout",
          "text": [
            "14. Times: ['18:30']\n"
          ]
        }
      ]
    },
    {
      "cell_type": "markdown",
      "source": [
        "# 15. Finding all capitalized words"
      ],
      "metadata": {
        "id": "uO063vs660O9"
      }
    },
    {
      "cell_type": "code",
      "source": [
        "capitalized_words = re.findall(r'\\b[A-Z][a-z]*\\b', paragraph)\n",
        "print(\"15. Capitalized Words:\", capitalized_words)"
      ],
      "metadata": {
        "colab": {
          "base_uri": "https://localhost:8080/"
        },
        "id": "uM71uelb6yAU",
        "outputId": "72eea156-7984-457a-dc35-c70019fba962"
      },
      "execution_count": 21,
      "outputs": [
        {
          "output_type": "stream",
          "name": "stdout",
          "text": [
            "15. Capitalized Words: ['Demon', 'Slayer', 'Kimetsu', 'Yaiba', 'Japanese', 'Koyoharu', 'Gotouge', 'The', 'Tanjiro', 'Kamado', 'Nezuko', 'Kamado', 'Together', 'Zenitsu', 'Agatsuma', 'Inosuke', 'Hashibira', 'Tanjiro', 'Nezuko', 'Muzan', 'Kibutsuji', 'In', 'Taisho', 'Japan', 'Demon', 'Slayer', 'Corps', 'The', 'Twelve', 'Kizuki', 'Notable', 'Demon', 'Slayer', 'Corps', 'Giyu', 'Tomioka', 'Kyojuro', 'Rengoku', 'Shinobu', 'Kocho', 'Tengen', 'Uzui', 'The', 'Ufotable', 'The', 'February', 'Shueisha', 'Weekly', 'Shonen', 'Jump', 'May', 'The', 'April', 'The', 'Demon', 'Slayer', 'Mugen', 'Train', 'October', 'One', 'Demon', 'Slayer', 'Tanjiro', 'Nezuko', 'Tanjiro', 'Their', 'Fans', 'With', 'Demon', 'Slayer', 'As', 'Tanjiro', 'Nezuko', 'Contact', 'Also', 'Twitter', 'Instagram', 'Don', 'Demon', 'Slayer', 'Join']\n"
          ]
        }
      ]
    },
    {
      "cell_type": "markdown",
      "source": [
        "# 16. Finding all words ending with 'ly'"
      ],
      "metadata": {
        "id": "JC0XmxUO64au"
      }
    },
    {
      "cell_type": "code",
      "source": [
        "words_ending_with_ly = re.findall(r'\\b\\w+ly\\b', paragraph)\n",
        "print(\"16. Words ending with 'ly':\", words_ending_with_ly)"
      ],
      "metadata": {
        "colab": {
          "base_uri": "https://localhost:8080/"
        },
        "id": "BrMJBGIP62FC",
        "outputId": "2c3f0f7c-e8ff-4309-ace2-9b4416d2354a"
      },
      "execution_count": 22,
      "outputs": [
        {
          "output_type": "stream",
          "name": "stdout",
          "text": [
            "16. Words ending with 'ly': ['family', 'particularly', 'Weekly', 'quickly', 'family', 'eagerly']\n"
          ]
        }
      ]
    },
    {
      "cell_type": "markdown",
      "source": [
        "# 17. Finding all hyphenated words"
      ],
      "metadata": {
        "id": "zXtU9F9D69Cu"
      }
    },
    {
      "cell_type": "code",
      "source": [
        "hyphenated_words = re.findall(r'\\b\\w+-\\w+\\b', paragraph)\n",
        "print(\"17. Hyphenated Words:\", hyphenated_words)"
      ],
      "metadata": {
        "colab": {
          "base_uri": "https://localhost:8080/"
        },
        "id": "3sSUcCDf66fT",
        "outputId": "590c3ad0-afe1-448e-b95c-5e74e59a8cbe"
      },
      "execution_count": 23,
      "outputs": [
        {
          "output_type": "stream",
          "name": "stdout",
          "text": [
            "17. Hyphenated Words: ['Taisho-era', 'highest-grossing', 'well-developed']\n"
          ]
        }
      ]
    },
    {
      "cell_type": "markdown",
      "source": [
        "# 18. Finding all quoted phrases"
      ],
      "metadata": {
        "id": "HzIqaE5N7BUe"
      }
    },
    {
      "cell_type": "code",
      "source": [
        "quoted_phrases = re.findall(r'\\\"(.*?)\\\"', paragraph)\n",
        "print(\"18. Quoted Phrases:\", quoted_phrases)"
      ],
      "metadata": {
        "colab": {
          "base_uri": "https://localhost:8080/"
        },
        "id": "47t6J-Sy6-_s",
        "outputId": "ffddc0bb-903d-44f5-9351-6084ddc659b1"
      },
      "execution_count": 24,
      "outputs": [
        {
          "output_type": "stream",
          "name": "stdout",
          "text": [
            "18. Quoted Phrases: ['Demon Slayer: Mugen Train,']\n"
          ]
        }
      ]
    },
    {
      "cell_type": "markdown",
      "source": [
        "# 19. Finding all sentences ending with 'demon'"
      ],
      "metadata": {
        "id": "nDeWyo_x7GGV"
      }
    },
    {
      "cell_type": "code",
      "source": [
        "sentences_ending_with_demon = re.findall(r'[^.]*demon[^.]*\\.', paragraph)\n",
        "print(\"19. Sentences ending with 'demon':\", sentences_ending_with_demon)"
      ],
      "metadata": {
        "colab": {
          "base_uri": "https://localhost:8080/"
        },
        "id": "nsOXP5qw7DRD",
        "outputId": "d6b636b0-28ef-43e3-c0aa-c514f05703b7"
      },
      "execution_count": 25,
      "outputs": [
        {
          "output_type": "stream",
          "name": "stdout",
          "text": [
            "19. Sentences ending with 'demon': [' The story follows Tanjiro Kamado, a young boy who becomes a demon slayer after his family is slaughtered and his younger sister Nezuko Kamado is turned into a demon.', ' Together with his friends Zenitsu Agatsuma and Inosuke Hashibira, Tanjiro sets out on a journey to find a cure for Nezuko and to fight the demon lord Muzan Kibutsuji.', '\\nIn the Taisho-era Japan, Demon Slayer Corps protect humans from demons.', ' The series chronicles their adventures and battles against powerful demons such as the Twelve Kizuki.', ' Nezuko, despite being a demon, retains her humanity and helps Tanjiro in his quest.', '\\nContact us at info@demonslayer.', 'demonslayer.']\n"
          ]
        }
      ]
    },
    {
      "cell_type": "markdown",
      "source": [
        "# 20. Finding all punctuation marks"
      ],
      "metadata": {
        "id": "ZtBzjy2_7fF-"
      }
    },
    {
      "cell_type": "code",
      "source": [
        "punctuation_marks = re.findall(r'[^\\w\\s]', paragraph)\n",
        "print(\"20. Punctuation Marks:\", punctuation_marks)"
      ],
      "metadata": {
        "colab": {
          "base_uri": "https://localhost:8080/"
        },
        "id": "D78pkxkM7RKs",
        "outputId": "e2d6d74b-9b3a-4f92-f40f-79ff65230d41"
      },
      "execution_count": 31,
      "outputs": [
        {
          "output_type": "stream",
          "name": "stdout",
          "text": [
            "20. Punctuation Marks: [':', '.', ',', '.', ',', '.', '-', ',', '.', '.', ',', ',', ',', '.', ',', '.', \"'\", '.', '.', '\"', ':', ',', '\"', ',', ',', '-', '.', '.', ',', ',', '.', ',', ',', '.', ',', '.', ',', '.', ',', '-', ',', ',', '.', ',', ',', '.', '@', '.', ',', ':', '/', '/', '.', '.', '.', ',', ':', '@', '.', \"'\", '/', '/', ':', ',', '.', ',', ',', '!']\n"
          ]
        }
      ]
    },
    {
      "cell_type": "markdown",
      "source": [
        "# 22. Finding all words containing 'ing'"
      ],
      "metadata": {
        "id": "4e0jCi-V7lIu"
      }
    },
    {
      "cell_type": "code",
      "source": [
        "words_containing_ing = re.findall(r'\\b\\w*ing\\b', paragraph)\n",
        "print(\"22. Words containing 'ing':\", words_containing_ing)"
      ],
      "metadata": {
        "colab": {
          "base_uri": "https://localhost:8080/"
        },
        "id": "CtcudYLZ7hZS",
        "outputId": "37883f10-66fa-459b-85f2-addc748b86d8"
      },
      "execution_count": 32,
      "outputs": [
        {
          "output_type": "stream",
          "name": "stdout",
          "text": [
            "22. Words containing 'ing': ['stunning', 'becoming', 'grossing', 'unwavering', 'being', 'highlighting', 'compelling', 'breathtaking', 'upcoming', 'celebrating']\n"
          ]
        }
      ]
    },
    {
      "cell_type": "markdown",
      "source": [
        "# 23. Finding all occurrences of any vowel"
      ],
      "metadata": {
        "id": "O8i4bssN7rTW"
      }
    },
    {
      "cell_type": "code",
      "source": [
        "vowel_occurrences = re.findall(r'[aeiouAEIOU]', paragraph)\n",
        "print(\"23. Vowel Occurrences:\", vowel_occurrences)"
      ],
      "metadata": {
        "colab": {
          "base_uri": "https://localhost:8080/"
        },
        "id": "TFTZX4qK7nG9",
        "outputId": "31d7c511-374d-4268-9ca8-ca807349a3e5"
      },
      "execution_count": 36,
      "outputs": [
        {
          "output_type": "stream",
          "name": "stdout",
          "text": [
            "23. Vowel Occurrences: ['e', 'o', 'a', 'e', 'i', 'e', 'u', 'o', 'a', 'i', 'a', 'i', 'a', 'a', 'a', 'e', 'e', 'a', 'a', 'e', 'i', 'e', 'i', 'e', 'a', 'i', 'u', 'a', 'e', 'o', 'o', 'a', 'u', 'o', 'o', 'u', 'e', 'e', 'o', 'o', 'o', 'a', 'i', 'o', 'a', 'a', 'o', 'a', 'o', 'u', 'o', 'o', 'e', 'o', 'e', 'a', 'e', 'o', 'a', 'e', 'a', 'e', 'i', 'a', 'i', 'i', 'a', 'u', 'e', 'e', 'a', 'i', 'o', 'u', 'e', 'i', 'e', 'e', 'u', 'o', 'a', 'a', 'o', 'i', 'u', 'e', 'i', 'o', 'a', 'e', 'o', 'o', 'e', 'e', 'i', 'i', 'i', 'e', 'e', 'i', 'u', 'A', 'a', 'u', 'a', 'a', 'I', 'o', 'u', 'e', 'a', 'i', 'i', 'a', 'a', 'i', 'o', 'e', 'o', 'u', 'o', 'a', 'o', 'u', 'e', 'o', 'i', 'a', 'u', 'e', 'o', 'e', 'u', 'o', 'a', 'o', 'i', 'e', 'e', 'o', 'o', 'u', 'a', 'i', 'u', 'u', 'i', 'I', 'e', 'a', 'i', 'o', 'e', 'a', 'a', 'a', 'e', 'o', 'a', 'e', 'o', 'o', 'e', 'u', 'a', 'o', 'e', 'o', 'e', 'e', 'i', 'e', 'o', 'i', 'e', 'e', 'i', 'a', 'e', 'u', 'e', 'a', 'a', 'e', 'a', 'a', 'i', 'o', 'e', 'u', 'e', 'o', 'u', 'a', 'e', 'e', 'e', 'i', 'u', 'i', 'o', 'a', 'e', 'e', 'e', 'o', 'e', 'e', 'o', 'a', 'e', 'o', 'i', 'u', 'e', 'i', 'u', 'o', 'i', 'o', 'a', 'o', 'u', 'o', 'e', 'o', 'u', 'i', 'o', 'u', 'o', 'o', 'a', 'e', 'e', 'U', 'u', 'i', 'e', 'a', 'i', 'e', 'a', 'a', 'a', 'i', 'o', 'U', 'o', 'a', 'e', 'a', 'e', 'e', 'a', 'i', 'e', 'o', 'i', 'u', 'i', 'a', 'i', 'a', 'i', 'o', 'a', 'i', 'u', 'a', 'e', 'i', 'o', 'i', 'i', 'e', 'e', 'e', 'a', 'a', 'e', 'a', 'e', 'i', 'a', 'i', 'a', 'i', 'o', 'i', 'e', 'u', 'a', 'i', 'u', 'e', 'i', 'a', 'e', 'e', 'o', 'e', 'u', 'a', 'a', 'i', 'e', 'a', 'o', 'u', 'e', 'i', 'a', 'i', 'o', 'u', 'e', 'e', 'a', 'i', 'e', 'e', 'i', 'e', 'e', 'i', 'A', 'i', 'a', 'u', 'i', 'a', 'i', 'e', 'o', 'u', 'a', 'i', 'o', 'i', 'e', 'e', 'o', 'i', 'e', 'e', 'o', 'a', 'e', 'u', 'e', 'a', 'i', 'e', 'e', 'a', 'e', 'i', 'O', 'o', 'e', 'o', 'e', 'o', 'o', 'i', 'e', 'e', 'o', 'e', 'o', 'i', 'e', 'i', 'e', 'o', 'i', 'a', 'i', 'e', 'i', 'o', 'a', 'i', 'e', 'O', 'e', 'o', 'e', 'a', 'i', 'e', 'e', 'i', 'e', 'o', 'a', 'e', 'i', 'e', 'u', 'e', 'e', 'e', 'e', 'o', 'o', 'a', 'e', 'i', 'a', 'i', 'o', 'i', 'i', 'u', 'a', 'e', 'i', 'e', 'e', 'i', 'a', 'i', 'o', 'a', 'o', 'a', 'i', 'o', 'e', 'o', 'i', 'e', 'e', 'i', 'i', 'o', 'a', 'u', 'e', 'e', 'o', 'e', 'u', 'o', 'e', 'i', 'e', 'e', 'i', 'a', 'e', 'o', 'e', 'a', 'i', 'e', 'u', 'a', 'i', 'a', 'e', 'a', 'i', 'o', 'i', 'i', 'u', 'e', 'e', 'i', 'o', 'i', 'a', 'e', 'a', 'a', 'e', 'o', 'e', 'e', 'i', 'e', 'i', 'i', 'i', 'e', 'i', 'o', 'a', 'e', 'o', 'a', 'i', 'a', 'e', 'e', 'e', 'a', 'e', 'a', 'e', 'a', 'e', 'a', 'a', 'i', 'e', 'a', 'e', 'e', 'a', 'o', 'a', 'e', 'e', 'i', 'e', 'e', 'i', 'a', 'a', 'e', 'e', 'e', 'e', 'a', 'e', 'e', 'i', 'o', 'e', 'a', 'i', 'i', 'i', 'o', 'e', 'i', 'o', 'e', 'e', 'e', 'o', 'e', 'a', 'a', 'e', 'a', 'e', 'a', 'a', 'i', 'i', 'u', 'a', 'e', 'o', 'a', 'e', 'o', 'i', 'u', 'e', 'o', 'a', 'i', 'a', 'e', 'a', 'u', 'i', 'e', 'e', 'a', 'o', 'u', 'e', 'o', 'e', 'A', 'e', 'a', 'e', 'o', 'a', 'i', 'o', 'a', 'e', 'u', 'o', 'u', 'o', 'i', 'e', 'i', 'u', 'a', 'e', 'e', 'i', 'e', 'a', 'e', 'i', 'e', 'o', 'e', 'a', 'o', 'u', 'a', 'e', 'a', 'i', 'e', 'o', 'u', 'o', 'a', 'u', 'a', 'i', 'o', 'e', 'o', 'a', 'e', 'o', 'o', 'o', 'e', 'e', 'a', 'i', 'a', 'o', 'u', 'e', 'u', 'o', 'i', 'e', 'a', 'o', 'o', 'i', 'i', 'o', 'u', 'e', 'i', 'e', 'a', 'e', 'o', 'a', 'e', 'o', 'o', 'e', 'a', 'e', 'e', 'A', 'o', 'o', 'o', 'u', 'o', 'o', 'i', 'a', 'e', 'i', 'a', 'e', 'o', 'a', 'e', 'A', 'i', 'e', 'o', 'i', 'e', 'a', 'I', 'a', 'a', 'o', 'i', 'o', 'u', 'o', 'o', 'u', 'e', 'i', 'a', 'e', 'e', 'o', 'a', 'e', 'e', 'a', 'i', 'e', 'e', 'a', 'o', 'e', 'o', 'a', 'e', 'a', 'i', 'i', 'a', 'o', 'e', 'a', 'i', 'e', 'o', 'u', 'i', 'o', 'i', 'u', 'o', 'e', 'u', 'i', 'e', 'e', 'i', 'e', 'i', 'e', 'i', 'e', 'i', 'e', 'e', 'a', 'o', 'a', 'o', 'e']\n"
          ]
        }
      ]
    },
    {
      "cell_type": "markdown",
      "source": [
        "# 24. Extracting domain names from email addresses"
      ],
      "metadata": {
        "id": "odQpoSP07_cW"
      }
    },
    {
      "cell_type": "code",
      "source": [
        "email_domains = re.findall(r'@([A-Za-z0-9.-]+)\\.', paragraph)\n",
        "print(\"24. Email Domains:\", email_domains)"
      ],
      "metadata": {
        "colab": {
          "base_uri": "https://localhost:8080/"
        },
        "id": "5ECQlTrg7ufK",
        "outputId": "9c4ce5dd-25e9-4f73-cf44-85879ffa7e76"
      },
      "execution_count": 37,
      "outputs": [
        {
          "output_type": "stream",
          "name": "stdout",
          "text": [
            "24. Email Domains: ['demonslayer']\n"
          ]
        }
      ]
    },
    {
      "cell_type": "markdown",
      "source": [
        "# 25. Extracting all substrings between parentheses"
      ],
      "metadata": {
        "id": "OpEmTp6F8Lc2"
      }
    },
    {
      "cell_type": "code",
      "source": [
        "substrings_between_parentheses = re.findall(r'\\((.*?)\\)', paragraph)\n",
        "print(\"25. Substrings between Parentheses:\", substrings_between_parentheses)"
      ],
      "metadata": {
        "colab": {
          "base_uri": "https://localhost:8080/"
        },
        "id": "mvRtzFUO8GAU",
        "outputId": "c5fda99a-c844-405a-add5-bcb8ed756739"
      },
      "execution_count": 38,
      "outputs": [
        {
          "output_type": "stream",
          "name": "stdout",
          "text": [
            "25. Substrings between Parentheses: []\n"
          ]
        }
      ]
    },
    {
      "cell_type": "markdown",
      "source": [
        "# 26. Finding all words with at least one capital letter"
      ],
      "metadata": {
        "id": "yKe7lHK78TFm"
      }
    },
    {
      "cell_type": "code",
      "source": [
        "words_with_capital = re.findall(r'\\b\\w*[A-Z]\\w*\\b', paragraph)\n",
        "print(\"26. Words with at least one Capital Letter:\", words_with_capital)"
      ],
      "metadata": {
        "colab": {
          "base_uri": "https://localhost:8080/"
        },
        "id": "Q0hnugI18PZM",
        "outputId": "d1ca456a-b0c8-41e8-93c2-9804f0ea3fb8"
      },
      "execution_count": 39,
      "outputs": [
        {
          "output_type": "stream",
          "name": "stdout",
          "text": [
            "26. Words with at least one Capital Letter: ['Demon', 'Slayer', 'Kimetsu', 'Yaiba', 'Japanese', 'Koyoharu', 'Gotouge', 'The', 'Tanjiro', 'Kamado', 'Nezuko', 'Kamado', 'Together', 'Zenitsu', 'Agatsuma', 'Inosuke', 'Hashibira', 'Tanjiro', 'Nezuko', 'Muzan', 'Kibutsuji', 'In', 'Taisho', 'Japan', 'Demon', 'Slayer', 'Corps', 'The', 'Twelve', 'Kizuki', 'Notable', 'Demon', 'Slayer', 'Corps', 'Giyu', 'Tomioka', 'Kyojuro', 'Rengoku', 'Shinobu', 'Kocho', 'Tengen', 'Uzui', 'The', 'Ufotable', 'The', 'February', 'Shueisha', 'Weekly', 'Shonen', 'Jump', 'May', 'The', 'April', 'The', 'Demon', 'Slayer', 'Mugen', 'Train', 'October', 'One', 'Demon', 'Slayer', 'Tanjiro', 'Nezuko', 'Tanjiro', 'Their', 'Fans', 'With', 'Demon', 'Slayer', 'As', 'Tanjiro', 'Nezuko', 'Contact', 'Also', 'DemonSlayerAnime', 'Twitter', 'Instagram', 'Don', 'Demon', 'Slayer', 'Join']\n"
          ]
        }
      ]
    },
    {
      "cell_type": "code",
      "source": [],
      "metadata": {
        "id": "LoJROQvH8Xj0"
      },
      "execution_count": null,
      "outputs": []
    }
  ]
}