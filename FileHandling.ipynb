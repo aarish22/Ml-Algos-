{
  "nbformat": 4,
  "nbformat_minor": 0,
  "metadata": {
    "colab": {
      "provenance": []
    },
    "kernelspec": {
      "name": "python3",
      "display_name": "Python 3"
    },
    "language_info": {
      "name": "python"
    }
  },
  "cells": [
    {
      "cell_type": "code",
      "source": [
        "import json"
      ],
      "metadata": {
        "id": "B92rvZA1N1aI"
      },
      "execution_count": 20,
      "outputs": []
    },
    {
      "cell_type": "markdown",
      "source": [
        "## Creating new file and writing on it"
      ],
      "metadata": {
        "id": "aY-K_0oa-iYw"
      }
    },
    {
      "cell_type": "code",
      "execution_count": 6,
      "metadata": {
        "id": "V-9kzU6N9Yoi"
      },
      "outputs": [],
      "source": [
        "f = open('file1.txt','w')\n",
        "f.write(\"Hello World\")\n",
        "f.write(\"\\nI am under the water\")\n",
        "f.close()"
      ]
    },
    {
      "cell_type": "markdown",
      "source": [
        "## Writing on Existing file\n",
        "- Old content will be replaced by new"
      ],
      "metadata": {
        "id": "nwg5iKyu-pBn"
      }
    },
    {
      "cell_type": "code",
      "source": [
        "f = open('file1.txt','w')\n",
        "f.write(\"Hello\")\n",
        "f.close()"
      ],
      "metadata": {
        "id": "u-lmIp_h9aQg"
      },
      "execution_count": 7,
      "outputs": []
    },
    {
      "cell_type": "markdown",
      "source": [
        "## Writing without replacing the old content\n",
        "- a=append"
      ],
      "metadata": {
        "id": "NBfB0cMWI44v"
      }
    },
    {
      "cell_type": "code",
      "source": [
        "f = open('file1.txt','a')\n",
        "f.write(\"\\nHello World\")\n",
        "f.close()"
      ],
      "metadata": {
        "id": "63D334lT9aNn"
      },
      "execution_count": 9,
      "outputs": []
    },
    {
      "cell_type": "markdown",
      "source": [
        "## Writing Lines"
      ],
      "metadata": {
        "id": "6b4NGDnMKpC_"
      }
    },
    {
      "cell_type": "code",
      "source": [
        "Lines = [\"Hello\\n\",\"I am under the water\"]\n",
        "f = open('file1.txt','w')\n",
        "f.writelines(Lines)\n",
        "f.close()"
      ],
      "metadata": {
        "id": "KPWzHxZc9aJI"
      },
      "execution_count": 24,
      "outputs": []
    },
    {
      "cell_type": "code",
      "source": [
        "Lines = (\"Hello\\n\",\"I am under the water\\n\",\"Here too much raining\\n\")\n",
        "f = open('file1.txt','w')\n",
        "f.writelines(Lines)\n",
        "f.close()"
      ],
      "metadata": {
        "id": "h-CcdeytLtLI"
      },
      "execution_count": 25,
      "outputs": []
    },
    {
      "cell_type": "code",
      "source": [
        "my_dict = {'name': 'Tanjiro', 'age': 25, 'city': 'Japan'}\n",
        "with open('data.json', 'w') as file:\n",
        "    json.dump(my_dict, file)"
      ],
      "metadata": {
        "id": "Wx0oWo5i9aEI"
      },
      "execution_count": 26,
      "outputs": []
    },
    {
      "cell_type": "markdown",
      "source": [
        "## Reading through files"
      ],
      "metadata": {
        "id": "PspLz-TLOjEQ"
      }
    },
    {
      "cell_type": "code",
      "source": [
        "f = open('file1.txt','r')\n",
        "var = f.read()\n",
        "print(var)\n",
        "f.close()"
      ],
      "metadata": {
        "colab": {
          "base_uri": "https://localhost:8080/"
        },
        "id": "jj_yOWi59Z_I",
        "outputId": "52236409-9a8c-4682-dbce-5611fb9fc77a"
      },
      "execution_count": 27,
      "outputs": [
        {
          "output_type": "stream",
          "name": "stdout",
          "text": [
            "Hello\n",
            "I am under the water\n",
            "Here too much raining\n",
            "\n"
          ]
        }
      ]
    },
    {
      "cell_type": "markdown",
      "source": [
        "## Reading first 5 characters"
      ],
      "metadata": {
        "id": "eb2AJYxEPDFX"
      }
    },
    {
      "cell_type": "code",
      "source": [
        "f = open('file1.txt','r')\n",
        "var = f.read(5)\n",
        "print(var)\n",
        "f.close()"
      ],
      "metadata": {
        "colab": {
          "base_uri": "https://localhost:8080/"
        },
        "id": "QJjKJZfrOzqm",
        "outputId": "2a6c3b51-8efa-46ac-b137-2596c623a84f"
      },
      "execution_count": 28,
      "outputs": [
        {
          "output_type": "stream",
          "name": "stdout",
          "text": [
            "Hello\n"
          ]
        }
      ]
    },
    {
      "cell_type": "markdown",
      "source": [
        "## Reading line by line"
      ],
      "metadata": {
        "id": "PU6nESn1PHOW"
      }
    },
    {
      "cell_type": "code",
      "source": [
        "f = open('file1.txt','r')\n",
        "for line in f:\n",
        "    print(line,end='')\n",
        "f.close()"
      ],
      "metadata": {
        "colab": {
          "base_uri": "https://localhost:8080/"
        },
        "id": "npmgTcfpPCS-",
        "outputId": "ae124e50-8a49-4fbd-faf1-2fd13c226e17"
      },
      "execution_count": 35,
      "outputs": [
        {
          "output_type": "stream",
          "name": "stdout",
          "text": [
            "Hello\n",
            "I am under the water\n",
            "Here too much raining\n"
          ]
        }
      ]
    },
    {
      "cell_type": "markdown",
      "source": [
        "- Here readline is making new line and print is also doing the same, that is why we are seeing two lines gap between the sentences"
      ],
      "metadata": {
        "id": "_-Vc3jjDQWK_"
      }
    },
    {
      "cell_type": "code",
      "source": [
        "f = open('file1.txt','r')\n",
        "print(f.readline())\n",
        "print(f.readline())\n",
        "f.close()"
      ],
      "metadata": {
        "colab": {
          "base_uri": "https://localhost:8080/"
        },
        "id": "hTFoLH4xPVkh",
        "outputId": "a881434c-7d5f-407d-eb7e-8a23c12cae1a"
      },
      "execution_count": 34,
      "outputs": [
        {
          "output_type": "stream",
          "name": "stdout",
          "text": [
            "Hello\n",
            "\n",
            "I am under the water\n",
            "\n"
          ]
        }
      ]
    },
    {
      "cell_type": "code",
      "source": [
        "f = open('file1.txt','r')\n",
        "while True:\n",
        "  content = f.readline()\n",
        "\n",
        "  if content == '':\n",
        "    break\n",
        "  else:\n",
        "    print(content)\n",
        "f.close()"
      ],
      "metadata": {
        "colab": {
          "base_uri": "https://localhost:8080/"
        },
        "id": "Mur3S74nP9xo",
        "outputId": "034ea8d4-8ecb-418c-a74f-c9ec72d9b459"
      },
      "execution_count": 37,
      "outputs": [
        {
          "output_type": "stream",
          "name": "stdout",
          "text": [
            "Hello\n",
            "\n",
            "I am under the water\n",
            "\n",
            "Here too much raining\n",
            "\n"
          ]
        }
      ]
    },
    {
      "cell_type": "code",
      "source": [
        "f = open('file1.txt', 'r')\n",
        "for line in f:\n",
        "    if line.strip() == '':\n",
        "        break\n",
        "    else:\n",
        "        print(line.strip())\n",
        "f.close()"
      ],
      "metadata": {
        "colab": {
          "base_uri": "https://localhost:8080/"
        },
        "id": "LUyEJOVVTfjX",
        "outputId": "57c08236-108a-428c-9f15-531f69fb46a7"
      },
      "execution_count": 38,
      "outputs": [
        {
          "output_type": "stream",
          "name": "stdout",
          "text": [
            "Hello\n",
            "I am under the water\n",
            "Here too much raining\n"
          ]
        }
      ]
    },
    {
      "cell_type": "markdown",
      "source": [
        "## \"with\" keyword\n",
        "- using with keyword we donot need to write close() as it automatically closes the file."
      ],
      "metadata": {
        "id": "g5lvU3YqWQQA"
      }
    },
    {
      "cell_type": "code",
      "source": [
        "with open('file2.txt','w') as f:\n",
        "  f.write(\"Hello World\")"
      ],
      "metadata": {
        "id": "fmPeaI6mVrfQ"
      },
      "execution_count": 39,
      "outputs": []
    },
    {
      "cell_type": "markdown",
      "source": [
        "## We won't be able to write"
      ],
      "metadata": {
        "id": "hm6o_Jv3YETX"
      }
    },
    {
      "cell_type": "code",
      "source": [
        "f.write(\"hello\")"
      ],
      "metadata": {
        "colab": {
          "base_uri": "https://localhost:8080/",
          "height": 141
        },
        "id": "3AREij2dWeI-",
        "outputId": "db2cb4e1-c555-4599-80ae-9892f5f2bd25"
      },
      "execution_count": 40,
      "outputs": [
        {
          "output_type": "error",
          "ename": "ValueError",
          "evalue": "I/O operation on closed file.",
          "traceback": [
            "\u001b[0;31m---------------------------------------------------------------------------\u001b[0m",
            "\u001b[0;31mValueError\u001b[0m                                Traceback (most recent call last)",
            "\u001b[0;32m<ipython-input-40-18fc464dd662>\u001b[0m in \u001b[0;36m<cell line: 1>\u001b[0;34m()\u001b[0m\n\u001b[0;32m----> 1\u001b[0;31m \u001b[0mf\u001b[0m\u001b[0;34m.\u001b[0m\u001b[0mwrite\u001b[0m\u001b[0;34m(\u001b[0m\u001b[0;34m\"hello\"\u001b[0m\u001b[0;34m)\u001b[0m\u001b[0;34m\u001b[0m\u001b[0;34m\u001b[0m\u001b[0m\n\u001b[0m",
            "\u001b[0;31mValueError\u001b[0m: I/O operation on closed file."
          ]
        }
      ]
    },
    {
      "cell_type": "code",
      "source": [
        "with open('file1.txt','r') as f:\n",
        "  print(f.read())"
      ],
      "metadata": {
        "colab": {
          "base_uri": "https://localhost:8080/"
        },
        "id": "erSeuy54WwOA",
        "outputId": "1e286c0b-9afc-4c4e-93e5-822d1685163f"
      },
      "execution_count": 41,
      "outputs": [
        {
          "output_type": "stream",
          "name": "stdout",
          "text": [
            "Hello\n",
            "I am under the water\n",
            "Here too much raining\n",
            "\n"
          ]
        }
      ]
    },
    {
      "cell_type": "markdown",
      "source": [
        "- Here the first print(f.read(10)) prints the first 10 characters and the second print(f.read(10)) prints the next 10"
      ],
      "metadata": {
        "id": "d9Cj9OMgYyeY"
      }
    },
    {
      "cell_type": "code",
      "source": [
        "with open('file1.txt','r') as f:\n",
        "  print(f.read(10))\n",
        "  print(f.read(10))"
      ],
      "metadata": {
        "colab": {
          "base_uri": "https://localhost:8080/"
        },
        "id": "ci0xOJ_MYM-S",
        "outputId": "d2927cab-bc7e-44a2-c6c5-19418d54b1bd"
      },
      "execution_count": 42,
      "outputs": [
        {
          "output_type": "stream",
          "name": "stdout",
          "text": [
            "Hello\n",
            "I am\n",
            " under the\n"
          ]
        }
      ]
    },
    {
      "cell_type": "markdown",
      "source": [
        "\n",
        "The behavior you observed happens because of how the file object's read position works in Python. Let's break it down:\n",
        "\n",
        "File Pointer (Read Position):\n",
        "When you open a file, there's an internal pointer (also known as the file cursor) that keeps track of the current position within the file. Initially, this pointer is at the beginning of the file.\n",
        "\n",
        "First read(10) Call:\n",
        "When you call f.read(10), it reads the first 10 characters starting from the current position of the file pointer (which is initially at the start of the file). After reading, the file pointer moves 10 characters forward.\n",
        "\n",
        "Second read(10) Call:\n",
        "When you call f.read(10) again, it starts reading from the new position of the file pointer (which is now at the 11th character). It reads the next 10 characters and moves the file pointer forward again.\n",
        "\n",
        "The file pointer ensures that consecutive read operations continue from where the last read operation ended, rather than starting from the beginning of the file each time. This is why the first read(10) reads the first 10 characters, and the second read(10) reads the next 10 characters."
      ],
      "metadata": {
        "id": "P6Fqijx6Zfa4"
      }
    },
    {
      "cell_type": "markdown",
      "source": [
        "### Reading a big file in chunks"
      ],
      "metadata": {
        "id": "3LJ7QMQ6aUKo"
      }
    },
    {
      "cell_type": "code",
      "source": [
        "big_file = ['Demon Slayer' for i in range(50)]\n",
        "with open('big_file.txt', 'w') as file:\n",
        "    file.write('\\n'.join(big_file))"
      ],
      "metadata": {
        "id": "dLkabH5aYwof"
      },
      "execution_count": 54,
      "outputs": []
    },
    {
      "cell_type": "code",
      "source": [
        "with open('big_file.txt', 'r') as file:\n",
        "    chunk_size = 10\n",
        "    while True:\n",
        "        chunk = file.read(chunk_size)\n",
        "        if not chunk:\n",
        "            break\n",
        "        print(chunk,end=\"||\")"
      ],
      "metadata": {
        "colab": {
          "base_uri": "https://localhost:8080/"
        },
        "id": "1t4mJT4NafOS",
        "outputId": "d7c96faa-b123-42e5-a965-6c1934396ac4"
      },
      "execution_count": 55,
      "outputs": [
        {
          "output_type": "stream",
          "name": "stdout",
          "text": [
            "Demon Slay||er\n",
            "Demon S||layer\n",
            "Demo||n Slayer\n",
            "D||emon Slaye||r\n",
            "Demon Sl||ayer\n",
            "Demon|| Slayer\n",
            "De||mon Slayer||\n",
            "Demon Sla||yer\n",
            "Demon ||Slayer\n",
            "Dem||on Slayer\n",
            "||Demon Slay||er\n",
            "Demon S||layer\n",
            "Demo||n Slayer\n",
            "D||emon Slaye||r\n",
            "Demon Sl||ayer\n",
            "Demon|| Slayer\n",
            "De||mon Slayer||\n",
            "Demon Sla||yer\n",
            "Demon ||Slayer\n",
            "Dem||on Slayer\n",
            "||Demon Slay||er\n",
            "Demon S||layer\n",
            "Demo||n Slayer\n",
            "D||emon Slaye||r\n",
            "Demon Sl||ayer\n",
            "Demon|| Slayer\n",
            "De||mon Slayer||\n",
            "Demon Sla||yer\n",
            "Demon ||Slayer\n",
            "Dem||on Slayer\n",
            "||Demon Slay||er\n",
            "Demon S||layer\n",
            "Demo||n Slayer\n",
            "D||emon Slaye||r\n",
            "Demon Sl||ayer\n",
            "Demon|| Slayer\n",
            "De||mon Slayer||\n",
            "Demon Sla||yer\n",
            "Demon ||Slayer\n",
            "Dem||on Slayer\n",
            "||Demon Slay||er\n",
            "Demon S||layer\n",
            "Demo||n Slayer\n",
            "D||emon Slaye||r\n",
            "Demon Sl||ayer\n",
            "Demon|| Slayer\n",
            "De||mon Slayer||\n",
            "Demon Sla||yer\n",
            "Demon ||Slayer\n",
            "Dem||on Slayer||"
          ]
        }
      ]
    },
    {
      "cell_type": "markdown",
      "source": [
        "### seek and tell"
      ],
      "metadata": {
        "id": "r1s0wuGdcHjY"
      }
    },
    {
      "cell_type": "code",
      "source": [
        "with open('file1.txt','r') as f:\n",
        "  print(f.read(10))\n",
        "  print(f.tell()) # points out where our cursor is right now\n",
        "  f.seek(0) # we can assign the cursor where to point\n",
        "  print(f.read(10))\n",
        "  print(f.tell())"
      ],
      "metadata": {
        "colab": {
          "base_uri": "https://localhost:8080/"
        },
        "id": "zxvtOH_wa0t4",
        "outputId": "41774949-5a0c-42aa-b543-d5a5db499878"
      },
      "execution_count": 58,
      "outputs": [
        {
          "output_type": "stream",
          "name": "stdout",
          "text": [
            "Hello\n",
            "I am\n",
            "10\n",
            "Hello\n",
            "I am\n",
            "10\n"
          ]
        }
      ]
    },
    {
      "cell_type": "markdown",
      "source": [
        "### Binary file reading\n",
        "- rb : read binary\n",
        "- wb : write binary"
      ],
      "metadata": {
        "id": "bu1uDmGIrOU4"
      }
    },
    {
      "cell_type": "code",
      "source": [
        "with open('/content/newplot (10).png', 'rb') as f:\n",
        "  with open('newplot.png', 'wb') as new_file:\n",
        "    new_file.write(f.read())"
      ],
      "metadata": {
        "id": "kgoQR7QAcXKJ"
      },
      "execution_count": 61,
      "outputs": []
    },
    {
      "cell_type": "markdown",
      "source": [
        "### converting dict to string to store in file but vice versa is not possible"
      ],
      "metadata": {
        "id": "92G5hO40wo6v"
      }
    },
    {
      "cell_type": "code",
      "source": [
        "Dict = {\n",
        "    \"name\": \"Tanjiro\",\n",
        "    \"age\": 25,\n",
        "    \"city\": \"Japan\"\n",
        "}\n",
        "with open('data.txt', 'w') as file:\n",
        "    file.write(str(Dict))"
      ],
      "metadata": {
        "id": "uItafPDirtU3"
      },
      "execution_count": 64,
      "outputs": []
    },
    {
      "cell_type": "code",
      "source": [
        "with open('data.txt', 'r') as file:\n",
        "    print(file.read())\n",
        "    print(type(file.read()))"
      ],
      "metadata": {
        "colab": {
          "base_uri": "https://localhost:8080/"
        },
        "id": "e9z-ZPHWv_K3",
        "outputId": "a2ed8ffa-6973-4003-d8cd-580d06048ee6"
      },
      "execution_count": 71,
      "outputs": [
        {
          "output_type": "stream",
          "name": "stdout",
          "text": [
            "{'name': 'Tanjiro', 'age': 25, 'city': 'Japan'}\n",
            "<class 'str'>\n"
          ]
        }
      ]
    },
    {
      "cell_type": "markdown",
      "source": [
        "- Converting of python data types of json format is called serialization\n",
        "- Converting json into python data type is called deserialization"
      ],
      "metadata": {
        "id": "EWZ-e8D8xGna"
      }
    },
    {
      "cell_type": "code",
      "source": [
        "list = [1,2,3,4,5]\n",
        "with open('file.json','w') as file:\n",
        "  json.dump(list,file)"
      ],
      "metadata": {
        "id": "5fwCgZj2wbvp"
      },
      "execution_count": 72,
      "outputs": []
    },
    {
      "cell_type": "code",
      "source": [
        "Dict = {\n",
        "    \"name\": \"Tanjiro\",\n",
        "    \"age\": 25,\n",
        "    \"city\": \"Japan\"\n",
        "}"
      ],
      "metadata": {
        "id": "EVcWXLAAynRw"
      },
      "execution_count": 73,
      "outputs": []
    },
    {
      "cell_type": "markdown",
      "source": [
        "- indent = 5 means 5 spaces"
      ],
      "metadata": {
        "id": "CtMYay3-0TAg"
      }
    },
    {
      "cell_type": "code",
      "source": [
        "with open('file2.json','w') as f:\n",
        "  json.dump(Dict,f,indent=5)"
      ],
      "metadata": {
        "id": "bEfKCt2Yyw3n"
      },
      "execution_count": 76,
      "outputs": []
    },
    {
      "cell_type": "code",
      "source": [
        "with open('file2.json','r') as f:\n",
        "  print(json.load(f))"
      ],
      "metadata": {
        "colab": {
          "base_uri": "https://localhost:8080/"
        },
        "id": "Y-uX9QSFy-eH",
        "outputId": "28731f15-d39d-4684-fa92-4a37592e0f10"
      },
      "execution_count": 77,
      "outputs": [
        {
          "output_type": "stream",
          "name": "stdout",
          "text": [
            "{'name': 'Tanjiro', 'age': 25, 'city': 'Japan'}\n"
          ]
        }
      ]
    },
    {
      "cell_type": "code",
      "source": [
        "data = (1, 2, 3)\n",
        "\n",
        "json_data = json.dumps(data)\n",
        "print(f\"Serialized: {json_data}\")\n",
        "\n",
        "deserialized_data = json.loads(json_data)\n",
        "print(f\"Deserialized: {deserialized_data}\")\n",
        "print(f\"Type after deserialization: {type(deserialized_data)}\")"
      ],
      "metadata": {
        "colab": {
          "base_uri": "https://localhost:8080/"
        },
        "id": "xm_Fkyb-z9jS",
        "outputId": "07741843-c021-4c9f-dd34-6d88e6488c8a"
      },
      "execution_count": 78,
      "outputs": [
        {
          "output_type": "stream",
          "name": "stdout",
          "text": [
            "Serialized: [1, 2, 3]\n",
            "Deserialized: [1, 2, 3]\n",
            "Type after deserialization: <class 'list'>\n"
          ]
        }
      ]
    },
    {
      "cell_type": "markdown",
      "source": [
        "When you deserialize and then serialize tuples and end up with lists instead, it's usually due to the behavior of the serialization/deserialization library you're using. Some libraries convert tuples to lists because lists are more universally supported across different programming languages and data formats. Here’s a closer look at why this happens:\n",
        "\n",
        "Data Format Compatibility: Many serialization formats (like JSON) do not have a native representation for tuples. In JSON, for example, the closest equivalent to a tuple is a list, so tuples are often converted to lists when serializing.\n",
        "\n",
        "Library Implementation: Some libraries, when converting data structures to a serializable format, might automatically convert tuples to lists for consistency and simplicity. When deserializing, they convert these lists back to lists, not tuples."
      ],
      "metadata": {
        "id": "4prsP_G11NlA"
      }
    },
    {
      "cell_type": "markdown",
      "source": [
        "### Pickle"
      ],
      "metadata": {
        "id": "WRRDRdtQ3kjo"
      }
    },
    {
      "cell_type": "code",
      "source": [
        "import pickle"
      ],
      "metadata": {
        "id": "y99_Rzvn1Lm2"
      },
      "execution_count": 80,
      "outputs": []
    },
    {
      "cell_type": "code",
      "source": [
        "with open('data.pickle','wb') as f:\n",
        "  pickle.dump(Dict,f)"
      ],
      "metadata": {
        "id": "PoqRMSRi4T5w"
      },
      "execution_count": 81,
      "outputs": []
    },
    {
      "cell_type": "code",
      "source": [],
      "metadata": {
        "id": "oRdU3ZbX4d9I"
      },
      "execution_count": null,
      "outputs": []
    }
  ]
}