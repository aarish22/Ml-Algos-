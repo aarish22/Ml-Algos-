{
  "nbformat": 4,
  "nbformat_minor": 0,
  "metadata": {
    "colab": {
      "provenance": []
    },
    "kernelspec": {
      "name": "python3",
      "display_name": "Python 3"
    },
    "language_info": {
      "name": "python"
    }
  },
  "cells": [
    {
      "cell_type": "code",
      "execution_count": 1,
      "metadata": {
        "id": "7EOwWmEoWf2h"
      },
      "outputs": [],
      "source": [
        "import numpy as np\n",
        "import pandas as pd\n",
        "import matplotlib.pyplot as plt\n",
        "from scipy import stats"
      ]
    },
    {
      "cell_type": "code",
      "source": [
        "np.random.seed(42)\n",
        "data = np.random.normal(loc=50, scale=10, size=1000)\n",
        "data = np.append(data, [100, 110, 120])"
      ],
      "metadata": {
        "id": "gI4CpgMDWgZk"
      },
      "execution_count": 2,
      "outputs": []
    },
    {
      "cell_type": "code",
      "source": [
        "df = pd.DataFrame(data, columns=['Value'])"
      ],
      "metadata": {
        "id": "2dbhF26yWjmK"
      },
      "execution_count": 3,
      "outputs": []
    },
    {
      "cell_type": "markdown",
      "source": [
        "# Five Number Summary"
      ],
      "metadata": {
        "id": "Iq07zDEwWshQ"
      }
    },
    {
      "cell_type": "code",
      "source": [
        "def five_number_summary(data):\n",
        "    summary = {\n",
        "        'Minimum': np.min(data),\n",
        "        'Q1': np.percentile(data, 25),\n",
        "        'Median': np.median(data),\n",
        "        'Q3': np.percentile(data, 75),\n",
        "        'Maximum': np.max(data)\n",
        "    }\n",
        "    return summary"
      ],
      "metadata": {
        "id": "alpE-t7mWlQB"
      },
      "execution_count": 4,
      "outputs": []
    },
    {
      "cell_type": "code",
      "source": [
        "summary = five_number_summary(data)\n",
        "print(\"Five-Number Summary:\", summary)"
      ],
      "metadata": {
        "colab": {
          "base_uri": "https://localhost:8080/"
        },
        "id": "YGumPz06WnEj",
        "outputId": "a4cd5f03-185f-446a-ef10-d0e6d357e2cc"
      },
      "execution_count": 5,
      "outputs": [
        {
          "output_type": "stream",
          "name": "stdout",
          "text": [
            "Five-Number Summary: {'Minimum': 17.58732659930927, 'Q1': 43.54153680576175, 'Median': 50.26885838994531, 'Q3': 56.5079621463223, 'Maximum': 120.0}\n"
          ]
        }
      ]
    },
    {
      "cell_type": "markdown",
      "source": [
        "# Box Plot"
      ],
      "metadata": {
        "id": "UT3P9ObVWvPI"
      }
    },
    {
      "cell_type": "code",
      "source": [
        "plt.figure(figsize=(10, 6))\n",
        "plt.boxplot(data, vert=False)\n",
        "plt.title('Box Plot of Sample Data')\n",
        "plt.xlabel('Value')\n",
        "plt.show()"
      ],
      "metadata": {
        "colab": {
          "base_uri": "https://localhost:8080/",
          "height": 564
        },
        "id": "5eCcRcZbWo9i",
        "outputId": "72053cf7-e3cf-4249-f410-fd64c44ac1a9"
      },
      "execution_count": 6,
      "outputs": [
        {
          "output_type": "display_data",
          "data": {
            "text/plain": [
              "<Figure size 1000x600 with 1 Axes>"
            ],
            "image/png": "[encoded data removed]"
          },
          "metadata": {}
        }
      ]
    },
    {
      "cell_type": "markdown",
      "source": [
        "# Z-Score Method"
      ],
      "metadata": {
        "id": "uvo6oTMjW2Cn"
      }
    },
    {
      "cell_type": "code",
      "source": [
        "z_scores = stats.zscore(data)\n",
        "outliers_z = data[(z_scores > 3) | (z_scores < -3)]\n",
        "print(\"Outliers using Z-score method:\", outliers_z)"
      ],
      "metadata": {
        "colab": {
          "base_uri": "https://localhost:8080/"
        },
        "id": "D3r_9JfLWria",
        "outputId": "92a7f34a-d48a-4676-f333-27f851a37f9a"
      },
      "execution_count": 7,
      "outputs": [
        {
          "output_type": "stream",
          "name": "stdout",
          "text": [
            "Outliers using Z-score method: [ 88.52731491  17.5873266  100.         110.         120.        ]\n"
          ]
        }
      ]
    },
    {
      "cell_type": "markdown",
      "source": [
        "# Percentile Method"
      ],
      "metadata": {
        "id": "MDripOFDW5Nw"
      }
    },
    {
      "cell_type": "code",
      "source": [
        "p1 = np.percentile(data, 1)\n",
        "p99 = np.percentile(data, 99)\n",
        "outliers_percentile = data[(data < p1) | (data > p99)]\n",
        "print(\"Outliers using Percentile method:\", outliers_percentile)"
      ],
      "metadata": {
        "colab": {
          "base_uri": "https://localhost:8080/"
        },
        "id": "5eQwtg2JW2aJ",
        "outputId": "d63710f1-f98c-49ad-d134-014f3bc16db0"
      },
      "execution_count": 8,
      "outputs": [
        {
          "output_type": "stream",
          "name": "stdout",
          "text": [
            "Outliers using Percentile method: [ 23.80254896  74.63242112  77.20169167  88.52731491  17.5873266\n",
            "  28.76104276  26.98078835  80.78880808  25.283555    27.88864691\n",
            "  23.03113357  75.73359803  23.49030192  29.18070592  76.32382065\n",
            "  75.60084538  75.26932426  28.01194043  25.76120673 100.\n",
            " 110.         120.        ]\n"
          ]
        }
      ]
    },
    {
      "cell_type": "markdown",
      "source": [
        "# IQR Method"
      ],
      "metadata": {
        "id": "hp3rHgd9W9cJ"
      }
    },
    {
      "cell_type": "code",
      "source": [
        "Q1 = np.percentile(data, 25)\n",
        "Q3 = np.percentile(data, 75)\n",
        "IQR = Q3 - Q1\n",
        "lower_bound = Q1 - 1.5 * IQR\n",
        "upper_bound = Q3 + 1.5 * IQR\n",
        "outliers_iqr = data[(data < lower_bound) | (data > upper_bound)]"
      ],
      "metadata": {
        "id": "FAgAvh_cW7Ty"
      },
      "execution_count": 10,
      "outputs": []
    },
    {
      "cell_type": "code",
      "source": [
        "outliers_iqr"
      ],
      "metadata": {
        "colab": {
          "base_uri": "https://localhost:8080/"
        },
        "id": "v91yXSLJXAP7",
        "outputId": "73522020-157f-4b15-fa4d-c181c2799c26"
      },
      "execution_count": 11,
      "outputs": [
        {
          "output_type": "execute_result",
          "data": {
            "text/plain": [
              "array([ 23.80254896,  77.20169167,  88.52731491,  17.5873266 ,\n",
              "        80.78880808,  23.03113357,  23.49030192,  76.32382065,\n",
              "       100.        , 110.        , 120.        ])"
            ]
          },
          "metadata": {},
          "execution_count": 11
        }
      ]
    },
    {
      "cell_type": "markdown",
      "source": [
        "\n",
        "# Winsorization"
      ],
      "metadata": {
        "id": "Co8pl47aXQuI"
      }
    },
    {
      "cell_type": "code",
      "source": [
        "from scipy.stats.mstats import winsorize\n",
        "winsorized_data = winsorize(data, limits=[0.05, 0.05])\n",
        "print(\"Winsorized Data:\", winsorized_data)"
      ],
      "metadata": {
        "colab": {
          "base_uri": "https://localhost:8080/"
        },
        "id": "J78v09HPXD2y",
        "outputId": "6cebbcf7-f751-4890-c7ed-7c9e20adea2a"
      },
      "execution_count": 12,
      "outputs": [
        {
          "output_type": "stream",
          "name": "stdout",
          "text": [
            "Winsorized Data: [54.96714153 48.61735699 56.47688538 ... 67.52270443 67.52270443\n",
            " 67.52270443]\n"
          ]
        }
      ]
    },
    {
      "cell_type": "markdown",
      "source": [
        "# DBSCAN"
      ],
      "metadata": {
        "id": "xRSZZo-3XcVo"
      }
    },
    {
      "cell_type": "code",
      "source": [
        "from sklearn.cluster import DBSCAN\n",
        "data_reshaped = data.reshape(-1, 1)"
      ],
      "metadata": {
        "id": "oVELa2ciXTlU"
      },
      "execution_count": 13,
      "outputs": []
    },
    {
      "cell_type": "code",
      "source": [
        "dbscan = DBSCAN(eps=3, min_samples=5)\n",
        "labels = dbscan.fit_predict(data_reshaped)"
      ],
      "metadata": {
        "id": "yjwzAyZyXXOQ"
      },
      "execution_count": 14,
      "outputs": []
    },
    {
      "cell_type": "code",
      "source": [
        "outliers_dbscan = data[labels == -1]\n",
        "print(\"Outliers using DBSCAN method:\", outliers_dbscan)"
      ],
      "metadata": {
        "colab": {
          "base_uri": "https://localhost:8080/"
        },
        "id": "d2Keh6PJXW7g",
        "outputId": "8df4835d-fcc5-4c06-f380-cd35bd415502"
      },
      "execution_count": 15,
      "outputs": [
        {
          "output_type": "stream",
          "name": "stdout",
          "text": [
            "Outliers using DBSCAN method: [ 88.52731491  17.5873266   80.78880808 100.         110.\n",
            " 120.        ]\n"
          ]
        }
      ]
    },
    {
      "cell_type": "markdown",
      "source": [
        "# Isolation Forest"
      ],
      "metadata": {
        "id": "ZUxKwYH2Xhp4"
      }
    },
    {
      "cell_type": "code",
      "source": [
        "from sklearn.ensemble import IsolationForest\n",
        "iso_forest = IsolationForest(contamination=0.01)\n",
        "outliers_iso_forest = iso_forest.fit_predict(data_reshaped)"
      ],
      "metadata": {
        "id": "12XVSQ9jXb0b"
      },
      "execution_count": 16,
      "outputs": []
    },
    {
      "cell_type": "code",
      "source": [
        "outliers_iso = data[outliers_iso_forest == -1]\n",
        "print(\"Outliers using Isolation Forest method:\", outliers_iso)"
      ],
      "metadata": {
        "colab": {
          "base_uri": "https://localhost:8080/"
        },
        "id": "g1BUD0T9XkrK",
        "outputId": "092388b2-95f9-48d7-9847-240a16a470cc"
      },
      "execution_count": 17,
      "outputs": [
        {
          "output_type": "stream",
          "name": "stdout",
          "text": [
            "Outliers using Isolation Forest method: [ 23.80254896  88.52731491  17.5873266   80.78880808  25.283555\n",
            "  23.03113357  23.49030192  25.76120673 100.         110.\n",
            " 120.        ]\n"
          ]
        }
      ]
    },
    {
      "cell_type": "markdown",
      "source": [
        "\n",
        "# Local Outlier Factor"
      ],
      "metadata": {
        "id": "LGOWwSV0Xov4"
      }
    },
    {
      "cell_type": "code",
      "source": [
        "from sklearn.neighbors import LocalOutlierFactor\n",
        "lof = LocalOutlierFactor(n_neighbors=20, contamination=0.01)\n",
        "outliers_lof = lof.fit_predict(data_reshaped)"
      ],
      "metadata": {
        "id": "MYDHxGWvXmfB"
      },
      "execution_count": 18,
      "outputs": []
    },
    {
      "cell_type": "code",
      "source": [
        "outliers_lof = data[outliers_lof == -1]\n",
        "print(\"Outliers using LOF method:\", outliers_lof)"
      ],
      "metadata": {
        "colab": {
          "base_uri": "https://localhost:8080/"
        },
        "id": "lHpWyAcDXsj4",
        "outputId": "b3ae3df0-83ca-436f-e134-2788d1bc3311"
      },
      "execution_count": 19,
      "outputs": [
        {
          "output_type": "stream",
          "name": "stdout",
          "text": [
            "Outliers using LOF method: [ 23.80254896  77.20169167  88.52731491  17.5873266   80.78880808\n",
            "  25.283555    23.03113357  23.49030192 100.         110.\n",
            " 120.        ]\n"
          ]
        }
      ]
    },
    {
      "cell_type": "markdown",
      "source": [
        "# Modified Z-Score"
      ],
      "metadata": {
        "id": "8QL8u-PjXz7A"
      }
    },
    {
      "cell_type": "code",
      "source": [
        "def modified_z_score(data):\n",
        "    median = np.median(data)\n",
        "    mad = np.median(np.abs(data - median))\n",
        "    modified_z_scores = 0.6745 * (data - median) / mad\n",
        "    return modified_z_scores\n",
        "\n",
        "mod_z_scores = modified_z_score(data)\n",
        "outliers_mod_z = data[np.abs(mod_z_scores) > 3.5]\n",
        "print(\"Outliers using Modified Z-score method:\", outliers_mod_z)"
      ],
      "metadata": {
        "colab": {
          "base_uri": "https://localhost:8080/"
        },
        "id": "spip8gwIXuJj",
        "outputId": "68e42f06-5069-44f2-ee1e-f6ff76e0bcd7"
      },
      "execution_count": 20,
      "outputs": [
        {
          "output_type": "stream",
          "name": "stdout",
          "text": [
            "Outliers using Modified Z-score method: [ 88.52731491 100.         110.         120.        ]\n"
          ]
        }
      ]
    },
    {
      "cell_type": "code",
      "source": [],
      "metadata": {
        "id": "Yv9LwR2zX1Xc"
      },
      "execution_count": null,
      "outputs": []
    }
  ]
}